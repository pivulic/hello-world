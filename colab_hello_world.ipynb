{
  "nbformat": 4,
  "nbformat_minor": 0,
  "metadata": {
    "colab": {
      "name": "colab hello world",
      "version": "0.3.2",
      "provenance": [],
      "include_colab_link": true
    },
    "kernelspec": {
      "name": "python3",
      "display_name": "Python 3"
    }
  },
  "cells": [
    {
      "cell_type": "markdown",
      "metadata": {
        "id": "view-in-github",
        "colab_type": "text"
      },
      "source": [
        "<a href=\"https://colab.research.google.com/github/pivulic/hello-world/blob/master/colab_hello_world.ipynb\" target=\"_parent\"><img src=\"https://colab.research.google.com/assets/colab-badge.svg\" alt=\"Open In Colab\"/></a>"
      ]
    },
    {
      "metadata": {
        "id": "ormQVdJkx7q8",
        "colab_type": "code",
        "outputId": "2d2012cc-0226-4a12-d6e6-596378b0a39e",
        "colab": {
          "base_uri": "https://localhost:8080/",
          "height": 34
        }
      },
      "cell_type": "code",
      "source": [
        "print(\"hello world!\")"
      ],
      "execution_count": 1,
      "outputs": [
        {
          "output_type": "stream",
          "text": [
            "hello world!\n"
          ],
          "name": "stdout"
        }
      ]
    },
    {
      "metadata": {
        "id": "J9I7Dr4Jzufc",
        "colab_type": "text"
      },
      "cell_type": "markdown",
      "source": [
        "Just fooling around"
      ]
    },
    {
      "metadata": {
        "id": "bT7S7xkJzwl6",
        "colab_type": "code",
        "colab": {
          "base_uri": "https://localhost:8080/",
          "height": 34
        },
        "outputId": "0494cfa8-4f76-4adb-e965-455e20f37644"
      },
      "cell_type": "code",
      "source": [
        "print(\"yepp\")"
      ],
      "execution_count": 2,
      "outputs": [
        {
          "output_type": "stream",
          "text": [
            "yepp\n"
          ],
          "name": "stdout"
        }
      ]
    }
  ]
}